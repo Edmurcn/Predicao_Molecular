{
 "cells": [
  {
   "cell_type": "markdown",
   "metadata": {},
   "source": [
    "### Predição de propriedades moleculares com aprendizado de máquina\n",
    "\n",
    "O projeto busca aplicar técnicas de aprendizado de máquina para otimização de processos laboratoriais. Para isso, contamos com o carregamento de dados experimentais do dataset [QM9](http://quantum-machine.org/datasets/), o qual disponibiliza a informação da energia **homo - lumo**, o **momento de dipolo** e o número de átomos de mais de 130000 moléculas orgânicas, indexadas pelos respectivos SMILES, as quais são formadas pelos átomos de carbono, oxigênio, fluor e nitrogênio."
   ]
  },
  {
   "cell_type": "code",
   "execution_count": 1,
   "metadata": {},
   "outputs": [],
   "source": [
    "#library import\n",
    "\n",
    "import pandas as pd  \n",
    "import numpy as np  \n",
    "import matplotlib.pyplot as plt  \n",
    "import seaborn as sns \n",
    "from rdkit import Chem\n",
    "\n",
    "#local module import\n",
    "import sys\n",
    "import os\n",
    "sys.path.append(os.path.abspath(\"/home/edmurcn/Documentos/MeusProjetos/Predicao_Molecular\")) \n",
    "from src.modeling_utils import DataIngestion\n",
    "from src.model_train2 import evaluate_models_cv_regression"
   ]
  },
  {
   "cell_type": "code",
   "execution_count": 2,
   "metadata": {},
   "outputs": [
    {
     "name": "stdout",
     "output_type": "stream",
     "text": [
      "Número de moléculas: 133885\n",
      "--------------------------------------------------\n",
      "Colunas:\n"
     ]
    },
    {
     "data": {
      "text/html": [
       "<div>\n",
       "<style scoped>\n",
       "    .dataframe tbody tr th:only-of-type {\n",
       "        vertical-align: middle;\n",
       "    }\n",
       "\n",
       "    .dataframe tbody tr th {\n",
       "        vertical-align: top;\n",
       "    }\n",
       "\n",
       "    .dataframe thead th {\n",
       "        text-align: right;\n",
       "    }\n",
       "</style>\n",
       "<table border=\"1\" class=\"dataframe\">\n",
       "  <thead>\n",
       "    <tr style=\"text-align: right;\">\n",
       "      <th></th>\n",
       "      <th>smiles</th>\n",
       "      <th>n_atoms</th>\n",
       "      <th>homo_lumo_nm</th>\n",
       "      <th>dipole_moment_debye</th>\n",
       "    </tr>\n",
       "  </thead>\n",
       "  <tbody>\n",
       "  </tbody>\n",
       "</table>\n",
       "</div>"
      ],
      "text/plain": [
       "Empty DataFrame\n",
       "Columns: [smiles, n_atoms, homo_lumo_nm, dipole_moment_debye]\n",
       "Index: []"
      ]
     },
     "execution_count": 2,
     "metadata": {},
     "output_type": "execute_result"
    }
   ],
   "source": [
    "# data input\n",
    "\n",
    "df_mol = pd.read_csv(\"/home/edmurcn/Documentos/MeusProjetos/Predicao_Molecular/data/origin_dataset.csv\", header=0)\n",
    "\n",
    "print(\"Número de moléculas:\", df_mol.shape[0])\n",
    "print(50*\"-\")\n",
    "print(\"Colunas:\")\n",
    "df_mol.head(0)\n"
   ]
  },
  {
   "cell_type": "code",
   "execution_count": 3,
   "metadata": {},
   "outputs": [
    {
     "data": {
      "text/plain": [
       "smiles                 0\n",
       "n_atoms                0\n",
       "homo_lumo_nm           0\n",
       "dipole_moment_debye    0\n",
       "dtype: int64"
      ]
     },
     "execution_count": 3,
     "metadata": {},
     "output_type": "execute_result"
    }
   ],
   "source": [
    "# Checking if there is NaN values\n",
    "\n",
    "df_mol.isna().sum()"
   ]
  },
  {
   "cell_type": "code",
   "execution_count": 17,
   "metadata": {},
   "outputs": [],
   "source": [
    "# Dropping homo_lumo columns - because is a highly correlated with dipole columns and its a possible target in the others preditions\n",
    "\n",
    "df_mol = df_mol.drop([\"homo_lumo_nm\"], axis=1)"
   ]
  },
  {
   "cell_type": "markdown",
   "metadata": {},
   "source": [
    "#### **Tratamento e ingestão de dados**"
   ]
  },
  {
   "cell_type": "markdown",
   "metadata": {},
   "source": [
    "Nesta etapa aplicamos uma linha de processamento contida na classe **DataIngestion()** para gerar um novo conjunto de dados, os processos são apresentados abaixo:\n",
    "\n",
    "- **drop_duplicated()** : Método utilizado para retirar moléculas duplicadas do conjunto de dados original. De acordo com as referências do projeto, existe a possibilidade de a mesma molécula ser escrita com SMILES diferentes, como 'C=CCC' e 'CCC=C', apesar de representarem a mesma estrutura, são escritos de maneira diferente devido a simetria.\n",
    "\n",
    "- **get_features()** : Método utilizado para gerar características das moléculas e adicionar ao conjunto original. As novas características serão geradas através do resultado de todos os descritores presentes na biblioteca RDKit (biblioteca voltada a química computacional).\n",
    "\n",
    "- **get_best_features()**: Método que seleciona as características com melhor perfil para serem usadas em dados de predição. Buscamos selecionar as features de acordo com o valor de correlação e da variância, dado que colunas com grandes correlações ou pequena variância foram excluídas.\n",
    "\n",
    "Por fim, os métodos podem ser executados separadamente ou, ao utilizar o método **execute_pipeline()**, temos a execução em sequência de todos os métodos, assim como em um **pipeline**."
   ]
  },
  {
   "cell_type": "code",
   "execution_count": 18,
   "metadata": {},
   "outputs": [],
   "source": [
    "data_ingestion = DataIngestion(data=df_mol.head(1000), name_column_smiles=\"smiles\")\n",
    "data_ingestion.execute_pipeline()"
   ]
  },
  {
   "cell_type": "code",
   "execution_count": 19,
   "metadata": {},
   "outputs": [
    {
     "name": "stdout",
     "output_type": "stream",
     "text": [
      "Número de moléculas: 1000\n",
      "----------------------------------------------------------------------------------------------------\n",
      "Novas Colunas: 86\n"
     ]
    },
    {
     "data": {
      "text/html": [
       "<div>\n",
       "<style scoped>\n",
       "    .dataframe tbody tr th:only-of-type {\n",
       "        vertical-align: middle;\n",
       "    }\n",
       "\n",
       "    .dataframe tbody tr th {\n",
       "        vertical-align: top;\n",
       "    }\n",
       "\n",
       "    .dataframe thead th {\n",
       "        text-align: right;\n",
       "    }\n",
       "</style>\n",
       "<table border=\"1\" class=\"dataframe\">\n",
       "  <thead>\n",
       "    <tr style=\"text-align: right;\">\n",
       "      <th></th>\n",
       "      <th>smiles</th>\n",
       "      <th>n_atoms</th>\n",
       "      <th>dipole_moment_debye</th>\n",
       "      <th>MaxAbsEStateIndex</th>\n",
       "      <th>MinAbsEStateIndex</th>\n",
       "      <th>MinEStateIndex</th>\n",
       "      <th>MolWt</th>\n",
       "      <th>BCUT2D_MWHI</th>\n",
       "      <th>BCUT2D_MRHI</th>\n",
       "      <th>BalabanJ</th>\n",
       "      <th>...</th>\n",
       "      <th>fr_NH0</th>\n",
       "      <th>fr_NH1</th>\n",
       "      <th>fr_NH2</th>\n",
       "      <th>fr_allylic_oxid</th>\n",
       "      <th>fr_amide</th>\n",
       "      <th>fr_bicyclic</th>\n",
       "      <th>fr_ether</th>\n",
       "      <th>fr_ketone</th>\n",
       "      <th>fr_nitrile</th>\n",
       "      <th>fr_piperdine</th>\n",
       "    </tr>\n",
       "  </thead>\n",
       "  <tbody>\n",
       "  </tbody>\n",
       "</table>\n",
       "<p>0 rows × 86 columns</p>\n",
       "</div>"
      ],
      "text/plain": [
       "Empty DataFrame\n",
       "Columns: [smiles, n_atoms, dipole_moment_debye, MaxAbsEStateIndex, MinAbsEStateIndex, MinEStateIndex, MolWt, BCUT2D_MWHI, BCUT2D_MRHI, BalabanJ, BertzCT, Chi0, HallKierAlpha, Ipc, Kappa1, Kappa2, PEOE_VSA1, PEOE_VSA10, PEOE_VSA11, PEOE_VSA12, PEOE_VSA13, PEOE_VSA14, PEOE_VSA2, PEOE_VSA3, PEOE_VSA4, PEOE_VSA5, PEOE_VSA6, PEOE_VSA7, PEOE_VSA8, PEOE_VSA9, SMR_VSA1, SMR_VSA10, SMR_VSA2, SMR_VSA3, SMR_VSA4, SMR_VSA5, SMR_VSA6, SMR_VSA7, SMR_VSA9, SlogP_VSA1, SlogP_VSA10, SlogP_VSA11, SlogP_VSA2, SlogP_VSA3, SlogP_VSA4, SlogP_VSA5, SlogP_VSA7, SlogP_VSA8, TPSA, EState_VSA1, EState_VSA10, EState_VSA2, EState_VSA3, EState_VSA4, EState_VSA5, EState_VSA6, EState_VSA7, EState_VSA8, EState_VSA9, VSA_EState3, VSA_EState4, VSA_EState5, VSA_EState6, VSA_EState7, VSA_EState8, VSA_EState9, NHOHCount, NumAliphaticCarbocycles, NumAliphaticHeterocycles, NumAliphaticRings, NumAromaticHeterocycles, NumRotatableBonds, MolLogP, MolMR, fr_Al_OH, fr_Ar_N, fr_NH0, fr_NH1, fr_NH2, fr_allylic_oxid, fr_amide, fr_bicyclic, fr_ether, fr_ketone, fr_nitrile, fr_piperdine]\n",
       "Index: []\n",
       "\n",
       "[0 rows x 86 columns]"
      ]
     },
     "execution_count": 19,
     "metadata": {},
     "output_type": "execute_result"
    }
   ],
   "source": [
    "df_mol_new = pd.read_csv(\"/home/edmurcn/Documentos/MeusProjetos/Predicao_Molecular/data/data_best_features.csv\", header=0)\n",
    "print(\"Número de moléculas:\", df_mol_new.shape[0])\n",
    "print(100*\"-\")\n",
    "print(\"Novas Colunas:\", df_mol_new.shape[1])\n",
    "df_mol_new.head(0)"
   ]
  },
  {
   "cell_type": "markdown",
   "metadata": {},
   "source": [
    "#### **Redução de dimensionalidade**\n",
    "\n",
    "Nesta etapa testamos algums métodos para reduzir ainda mais a dimensão dos dados. Serão aplicados métodos como **PCA()**, **LLA()**... "
   ]
  },
  {
   "cell_type": "markdown",
   "metadata": {},
   "source": [
    "A componente principal é um vetor unitário compostos por contribuições de cada eixo, com esses vetor formamos hiperplanos e projetamos os dados nestes hiperplanos para obter o máximo de vâriancia explicada no mínimo de dimensões possíveis."
   ]
  },
  {
   "cell_type": "markdown",
   "metadata": {},
   "source": [
    "## Realizar a exploração dos dados"
   ]
  }
 ],
 "metadata": {
  "kernelspec": {
   "display_name": "base",
   "language": "python",
   "name": "python3"
  },
  "language_info": {
   "codemirror_mode": {
    "name": "ipython",
    "version": 3
   },
   "file_extension": ".py",
   "mimetype": "text/x-python",
   "name": "python",
   "nbconvert_exporter": "python",
   "pygments_lexer": "ipython3",
   "version": "3.11.3"
  }
 },
 "nbformat": 4,
 "nbformat_minor": 2
}
